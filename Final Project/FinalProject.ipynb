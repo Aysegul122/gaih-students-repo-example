{
 "cells": [
  {
   "cell_type": "markdown",
   "metadata": {},
   "source": [
    "# Company Management System"
   ]
  },
  {
   "cell_type": "code",
   "execution_count": 31,
   "metadata": {},
   "outputs": [],
   "source": [
    "class Employees():\n",
    "\n",
    "    def __init__(self,name,age,language):\n",
    "        self.name=name\n",
    "        self.age=age\n",
    "        self.language=language\n",
    "        \n",
    "    \n",
    "class Managers(Employees):\n",
    "    pass\n",
    "\n",
    "emp=[]\n",
    "\n",
    "emp.append(Employees(\"Emre\",31,\"English\"))\n",
    "emp.append(Employees(\"Neşe\",25,\"English,French\"))\n",
    "emp.append(Employees(\"Ayşegül\",24,\"English, Spanish\"))\n",
    "emp.append(Employees(\"Necip\",25,\"English,Italian\"))    \n",
    "\n",
    "manager=[]\n",
    "manager.append(Managers(\"Mehmet\",57,\"English\"))\n",
    "manager.append(Managers(\"Esma\",44,\"English,French\"))\n",
    "manager.append(Managers(\"Aslı\",42,\"English,German\"))\n"
   ]
  },
  {
   "cell_type": "code",
   "execution_count": 29,
   "metadata": {},
   "outputs": [
    {
     "name": "stdout",
     "output_type": "stream",
     "text": [
      "Please enter the employee name: Ayşegül\n",
      "English, Spanish\n"
     ]
    }
   ],
   "source": [
    "employee_name=input(\"Please enter the employee name: \")\n",
    "\n",
    "for i in emp:\n",
    "    if employee_name==i.name:\n",
    "        print(i.language)"
   ]
  },
  {
   "cell_type": "code",
   "execution_count": 74,
   "metadata": {},
   "outputs": [
    {
     "name": "stdout",
     "output_type": "stream",
     "text": [
      "Please enter the manager name: Aslı\n",
      "English,German\n"
     ]
    }
   ],
   "source": [
    "manager_name=input(\"Please enter the manager name: \")\n",
    "\n",
    "for i in manager:\n",
    "    if manager_name==i.name:\n",
    "        print(i.language)\n",
    "    \n",
    "\n",
    "        "
   ]
  }
 ],
 "metadata": {
  "kernelspec": {
   "display_name": "Python 3",
   "language": "python",
   "name": "python3"
  },
  "language_info": {
   "codemirror_mode": {
    "name": "ipython",
    "version": 3
   },
   "file_extension": ".py",
   "mimetype": "text/x-python",
   "name": "python",
   "nbconvert_exporter": "python",
   "pygments_lexer": "ipython3",
   "version": "3.8.5"
  }
 },
 "nbformat": 4,
 "nbformat_minor": 4
}
