{
 "cells": [
  {
   "cell_type": "code",
   "execution_count": 18,
   "metadata": {},
   "outputs": [],
   "source": [
    "class Animals:\n",
    "    def __init__(self,name,age,gender,strain):\n",
    "        self.pet_name=name\n",
    "        self.pet_age=age\n",
    "        self.pet_gender=gender\n",
    "        self.pet_type=strain\n",
    "    \n",
    "    def print_pet(self):\n",
    "        print(\"Name:\"+ self.pet_name,\n",
    "              \"Age:\"+ str(self.pet_age),\n",
    "              \"Gender:\"+ self.pet_gender,\n",
    "              \"Strain:\"+self.pet_type)\n",
    "\n",
    "\n",
    "    "
   ]
  },
  {
   "cell_type": "code",
   "execution_count": 25,
   "metadata": {},
   "outputs": [
    {
     "name": "stdout",
     "output_type": "stream",
     "text": [
      "Name:Bampur Age:3 Gender:Male Strain:Cat\n"
     ]
    }
   ],
   "source": [
    "class Cats(Animals):\n",
    "    pass\n",
    "\n",
    "cat_Example = Cats(\"Bampur\",3,\"Male\",\"Cat\")\n",
    "cat_Example.print_pet()"
   ]
  },
  {
   "cell_type": "code",
   "execution_count": 24,
   "metadata": {},
   "outputs": [
    {
     "name": "stdout",
     "output_type": "stream",
     "text": [
      "Name:Lisa Age:1 Gender:Female Strain:Dog\n"
     ]
    }
   ],
   "source": [
    "class Dogs(Animals):\n",
    "    pass\n",
    "\n",
    "dog_Example = Cats(\"Lisa\",1,\"Female\",\"Dog\")\n",
    "dog_Example.print_pet()"
   ]
  }
 ],
 "metadata": {
  "kernelspec": {
   "display_name": "Python 3",
   "language": "python",
   "name": "python3"
  },
  "language_info": {
   "codemirror_mode": {
    "name": "ipython",
    "version": 3
   },
   "file_extension": ".py",
   "mimetype": "text/x-python",
   "name": "python",
   "nbconvert_exporter": "python",
   "pygments_lexer": "ipython3",
   "version": "3.8.5"
  }
 },
 "nbformat": 4,
 "nbformat_minor": 4
}
